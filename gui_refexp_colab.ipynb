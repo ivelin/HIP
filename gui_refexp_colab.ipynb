{
  "cells": [
    {
      "cell_type": "markdown",
      "metadata": {
        "id": "view-in-github",
        "colab_type": "text"
      },
      "source": [
        "<a href=\"https://colab.research.google.com/github/ivelin/HIP/blob/master/gui_refexp_colab.ipynb\" target=\"_parent\"><img src=\"https://colab.research.google.com/assets/colab-badge.svg\" alt=\"Open In Colab\"/></a>"
      ]
    },
    {
      "cell_type": "markdown",
      "metadata": {
        "id": "DWYDuD37BTOl"
      },
      "source": [
        "# GUI RefExp Notebook\n",
        "\n",
        "*   Based on LayoutML model suggested in this [IPA paper](https://github.com/debymf/ipa_probing)\n",
        "*   Initial fine tuning on Rico SCA dataset\n",
        "\n"
      ]
    },
    {
      "cell_type": "markdown",
      "metadata": {
        "id": "9LXnZTznBTOr"
      },
      "source": [
        "Install the Transformers, Datasets, and Evaluate libraries to run this notebook."
      ]
    },
    {
      "cell_type": "code",
      "source": [
        "#@title Checkout source files from github repo\n",
        "![[ -d \"gui2refexp\" ]] || git clone https://github.com/ivelin/gui2refexp.git ./\n",
        "\n",
        "!cd gui2refexp && git pull\n"
      ],
      "metadata": {
        "colab": {
          "base_uri": "https://localhost:8080/"
        },
        "id": "HADV9ncQbmX-",
        "outputId": "8811e29a-9e95-4fc9-a3b8-eebdca4914bb"
      },
      "execution_count": 38,
      "outputs": [
        {
          "output_type": "stream",
          "name": "stdout",
          "text": [
            "Already up to date.\n"
          ]
        }
      ]
    },
    {
      "cell_type": "code",
      "execution_count": null,
      "metadata": {
        "id": "RTy5GI0fBTOr",
        "colab": {
          "base_uri": "https://localhost:8080/"
        },
        "outputId": "0275c811-1f58-4ccb-c1f6-ed128aca7a43"
      },
      "outputs": [
        {
          "output_type": "stream",
          "name": "stdout",
          "text": [
            "Looking in indexes: https://pypi.org/simple, https://us-python.pkg.dev/colab-wheels/public/simple/\n",
            "Requirement already satisfied: numpy>=1.12 in /usr/local/lib/python3.8/dist-packages (from -r gui2refexp/requirements.txt (line 1)) (1.21.6)\n",
            "Requirement already satisfied: dynaconf==2.2.3 in /usr/local/lib/python3.8/dist-packages (from -r gui2refexp/requirements.txt (line 2)) (2.2.3)\n",
            "Requirement already satisfied: pandas>=0.24.2 in /usr/local/lib/python3.8/dist-packages (from -r gui2refexp/requirements.txt (line 3)) (1.3.5)\n",
            "Requirement already satisfied: loguru==0.4.1 in /usr/local/lib/python3.8/dist-packages (from -r gui2refexp/requirements.txt (line 4)) (0.4.1)\n",
            "Requirement already satisfied: transformers[sentencepiece]>=4.25 in /usr/local/lib/python3.8/dist-packages (from -r gui2refexp/requirements.txt (line 5)) (4.25.1)\n",
            "Requirement already satisfied: datasets>=1 in /usr/local/lib/python3.8/dist-packages (from -r gui2refexp/requirements.txt (line 6)) (2.8.0)\n",
            "Requirement already satisfied: evaluate in /usr/local/lib/python3.8/dist-packages (from -r gui2refexp/requirements.txt (line 7)) (0.4.0)\n",
            "Requirement already satisfied: tqdm==4.46.0 in /usr/local/lib/python3.8/dist-packages (from -r gui2refexp/requirements.txt (line 8)) (4.46.0)\n",
            "Requirement already satisfied: scipy>=1.2 in /usr/local/lib/python3.8/dist-packages (from -r gui2refexp/requirements.txt (line 9)) (1.7.3)\n",
            "Requirement already satisfied: torch==1.4.0 in /usr/local/lib/python3.8/dist-packages (from -r gui2refexp/requirements.txt (line 10)) (1.4.0)\n",
            "Requirement already satisfied: prefect==0.11.1 in /usr/local/lib/python3.8/dist-packages (from -r gui2refexp/requirements.txt (line 11)) (0.11.1)\n",
            "Requirement already satisfied: overrides==1.9 in /usr/local/lib/python3.8/dist-packages (from -r gui2refexp/requirements.txt (line 12)) (1.9)\n",
            "Requirement already satisfied: scikit_learn==0.24.2 in /usr/local/lib/python3.8/dist-packages (from -r gui2refexp/requirements.txt (line 13)) (0.24.2)\n",
            "Requirement already satisfied: python-box<4.0.0 in /usr/local/lib/python3.8/dist-packages (from dynaconf==2.2.3->-r gui2refexp/requirements.txt (line 2)) (3.4.6)\n",
            "Requirement already satisfied: click in /usr/local/lib/python3.8/dist-packages (from dynaconf==2.2.3->-r gui2refexp/requirements.txt (line 2)) (7.1.2)\n",
            "Requirement already satisfied: toml in /usr/local/lib/python3.8/dist-packages (from dynaconf==2.2.3->-r gui2refexp/requirements.txt (line 2)) (0.10.2)\n",
            "Requirement already satisfied: python-dotenv in /usr/local/lib/python3.8/dist-packages (from dynaconf==2.2.3->-r gui2refexp/requirements.txt (line 2)) (0.21.0)\n",
            "Requirement already satisfied: dask[bag]<3.0,>=0.19.3 in /usr/local/lib/python3.8/dist-packages (from prefect==0.11.1->-r gui2refexp/requirements.txt (line 11)) (2.30.0)\n",
            "Requirement already satisfied: urllib3>=1.24.3 in /usr/local/lib/python3.8/dist-packages (from prefect==0.11.1->-r gui2refexp/requirements.txt (line 11)) (1.26.13)\n",
            "Requirement already satisfied: docker<5.0,>=3.4.1 in /usr/local/lib/python3.8/dist-packages (from prefect==0.11.1->-r gui2refexp/requirements.txt (line 11)) (4.4.4)\n",
            "Requirement already satisfied: distributed<3.0,>=1.26.1 in /usr/local/lib/python3.8/dist-packages (from prefect==0.11.1->-r gui2refexp/requirements.txt (line 11)) (2.20.0)\n",
            "Requirement already satisfied: marshmallow<3.6.1,>=3.0.0b19 in /usr/local/lib/python3.8/dist-packages (from prefect==0.11.1->-r gui2refexp/requirements.txt (line 11)) (3.6.0)\n",
            "Requirement already satisfied: pyyaml<5.4,>=3.13 in /usr/local/lib/python3.8/dist-packages (from prefect==0.11.1->-r gui2refexp/requirements.txt (line 11)) (5.3.1)\n",
            "Requirement already satisfied: marshmallow-oneofschema<3.0,>=2.0.0b2 in /usr/local/lib/python3.8/dist-packages (from prefect==0.11.1->-r gui2refexp/requirements.txt (line 11)) (2.1.0)\n",
            "Requirement already satisfied: mypy-extensions<1.0,>=0.4.0 in /usr/local/lib/python3.8/dist-packages (from prefect==0.11.1->-r gui2refexp/requirements.txt (line 11)) (0.4.3)\n",
            "Requirement already satisfied: pytz>=2018.7 in /usr/local/lib/python3.8/dist-packages (from prefect==0.11.1->-r gui2refexp/requirements.txt (line 11)) (2022.7)\n",
            "Requirement already satisfied: requests<3.0,>=2.20 in /usr/local/lib/python3.8/dist-packages (from prefect==0.11.1->-r gui2refexp/requirements.txt (line 11)) (2.25.1)\n",
            "Requirement already satisfied: tabulate<1.0,>=0.8.0 in /usr/local/lib/python3.8/dist-packages (from prefect==0.11.1->-r gui2refexp/requirements.txt (line 11)) (0.8.10)\n",
            "Requirement already satisfied: cloudpickle<1.5,>=0.6.0 in /usr/local/lib/python3.8/dist-packages (from prefect==0.11.1->-r gui2refexp/requirements.txt (line 11)) (1.4.1)\n",
            "Requirement already satisfied: python-dateutil~=2.7 in /usr/local/lib/python3.8/dist-packages (from prefect==0.11.1->-r gui2refexp/requirements.txt (line 11)) (2.8.2)\n",
            "Requirement already satisfied: pendulum<3.0,>=2.0.4 in /usr/local/lib/python3.8/dist-packages (from prefect==0.11.1->-r gui2refexp/requirements.txt (line 11)) (2.1.2)\n",
            "Requirement already satisfied: croniter<1.0,>=0.3.24 in /usr/local/lib/python3.8/dist-packages (from prefect==0.11.1->-r gui2refexp/requirements.txt (line 11)) (0.3.37)\n",
            "Requirement already satisfied: python-slugify<5.0,>=1.2.6 in /usr/local/lib/python3.8/dist-packages (from prefect==0.11.1->-r gui2refexp/requirements.txt (line 11)) (4.0.1)\n",
            "Requirement already satisfied: joblib>=0.11 in /usr/local/lib/python3.8/dist-packages (from scikit_learn==0.24.2->-r gui2refexp/requirements.txt (line 13)) (1.2.0)\n",
            "Requirement already satisfied: threadpoolctl>=2.0.0 in /usr/local/lib/python3.8/dist-packages (from scikit_learn==0.24.2->-r gui2refexp/requirements.txt (line 13)) (3.1.0)\n",
            "Requirement already satisfied: filelock in /usr/local/lib/python3.8/dist-packages (from transformers[sentencepiece]>=4.25->-r gui2refexp/requirements.txt (line 5)) (3.8.2)\n",
            "Requirement already satisfied: tokenizers!=0.11.3,<0.14,>=0.11.1 in /usr/local/lib/python3.8/dist-packages (from transformers[sentencepiece]>=4.25->-r gui2refexp/requirements.txt (line 5)) (0.13.2)\n",
            "Requirement already satisfied: packaging>=20.0 in /usr/local/lib/python3.8/dist-packages (from transformers[sentencepiece]>=4.25->-r gui2refexp/requirements.txt (line 5)) (21.3)\n",
            "Requirement already satisfied: regex!=2019.12.17 in /usr/local/lib/python3.8/dist-packages (from transformers[sentencepiece]>=4.25->-r gui2refexp/requirements.txt (line 5)) (2022.6.2)\n",
            "Requirement already satisfied: huggingface-hub<1.0,>=0.10.0 in /usr/local/lib/python3.8/dist-packages (from transformers[sentencepiece]>=4.25->-r gui2refexp/requirements.txt (line 5)) (0.11.1)\n",
            "Requirement already satisfied: protobuf<=3.20.2 in /usr/local/lib/python3.8/dist-packages (from transformers[sentencepiece]>=4.25->-r gui2refexp/requirements.txt (line 5)) (3.19.6)\n",
            "Requirement already satisfied: sentencepiece!=0.1.92,>=0.1.91 in /usr/local/lib/python3.8/dist-packages (from transformers[sentencepiece]>=4.25->-r gui2refexp/requirements.txt (line 5)) (0.1.97)\n",
            "Requirement already satisfied: fsspec[http]>=2021.11.1 in /usr/local/lib/python3.8/dist-packages (from datasets>=1->-r gui2refexp/requirements.txt (line 6)) (2022.11.0)\n",
            "Requirement already satisfied: dill<0.3.7 in /usr/local/lib/python3.8/dist-packages (from datasets>=1->-r gui2refexp/requirements.txt (line 6)) (0.3.6)\n",
            "Requirement already satisfied: responses<0.19 in /usr/local/lib/python3.8/dist-packages (from datasets>=1->-r gui2refexp/requirements.txt (line 6)) (0.18.0)\n",
            "Collecting datasets>=1\n",
            "  Using cached datasets-2.7.1-py3-none-any.whl (451 kB)\n",
            "  Using cached datasets-2.7.0-py3-none-any.whl (451 kB)\n",
            "  Using cached datasets-2.6.2-py3-none-any.whl (445 kB)\n",
            "Collecting dill<0.3.6\n",
            "  Using cached dill-0.3.5.1-py2.py3-none-any.whl (95 kB)\n",
            "Collecting datasets>=1\n",
            "  Using cached datasets-2.6.1-py3-none-any.whl (441 kB)\n",
            "  Using cached datasets-2.6.0-py3-none-any.whl (441 kB)\n",
            "  Using cached datasets-2.5.2-py3-none-any.whl (432 kB)\n",
            "  Using cached datasets-2.5.1-py3-none-any.whl (431 kB)\n",
            "  Using cached datasets-2.5.0-py3-none-any.whl (431 kB)\n",
            "  Using cached datasets-2.4.0-py3-none-any.whl (365 kB)\n",
            "  Using cached datasets-2.3.2-py3-none-any.whl (362 kB)\n",
            "  Using cached datasets-2.3.1-py3-none-any.whl (362 kB)\n",
            "  Using cached datasets-2.3.0-py3-none-any.whl (361 kB)\n",
            "  Using cached datasets-2.2.2-py3-none-any.whl (346 kB)\n",
            "  Using cached datasets-2.2.1-py3-none-any.whl (342 kB)\n",
            "  Using cached datasets-2.2.0-py3-none-any.whl (342 kB)\n",
            "  Using cached datasets-2.1.0-py3-none-any.whl (325 kB)\n",
            "Requirement already satisfied: pyarrow>=5.0.0 in /usr/local/lib/python3.8/dist-packages (from datasets>=1->-r gui2refexp/requirements.txt (line 6)) (9.0.0)\n",
            "  Using cached datasets-2.0.0-py3-none-any.whl (325 kB)\n",
            "  Using cached datasets-1.18.4-py3-none-any.whl (312 kB)\n",
            "  Using cached datasets-1.18.3-py3-none-any.whl (311 kB)\n",
            "  Using cached datasets-1.18.2-py3-none-any.whl (312 kB)\n",
            "  Using cached datasets-1.18.1-py3-none-any.whl (311 kB)\n",
            "  Using cached datasets-1.18.0-py3-none-any.whl (311 kB)\n",
            "  Using cached datasets-1.17.0-py3-none-any.whl (306 kB)\n",
            "  Using cached datasets-1.16.1-py3-none-any.whl (298 kB)\n",
            "  Using cached datasets-1.16.0-py3-none-any.whl (298 kB)\n",
            "  Using cached datasets-1.15.1-py3-none-any.whl (290 kB)\n",
            "  Using cached datasets-1.15.0-py3-none-any.whl (290 kB)\n",
            "  Using cached datasets-1.14.0-py3-none-any.whl (290 kB)\n",
            "  Using cached datasets-1.13.3-py3-none-any.whl (287 kB)\n",
            "  Using cached datasets-1.13.2-py3-none-any.whl (287 kB)\n",
            "  Using cached datasets-1.13.1-py3-none-any.whl (287 kB)\n",
            "  Using cached datasets-1.13.0-py3-none-any.whl (285 kB)\n",
            "  Using cached datasets-1.12.1-py3-none-any.whl (270 kB)\n",
            "  Using cached datasets-1.12.0-py3-none-any.whl (269 kB)\n",
            "  Using cached datasets-1.11.0-py3-none-any.whl (264 kB)\n",
            "  Using cached datasets-1.10.2-py3-none-any.whl (542 kB)\n",
            "  Using cached datasets-1.10.1-py3-none-any.whl (542 kB)\n",
            "  Using cached datasets-1.10.0-py3-none-any.whl (542 kB)\n",
            "  Using cached datasets-1.9.0-py3-none-any.whl (262 kB)\n",
            "  Using cached datasets-1.8.0-py3-none-any.whl (237 kB)\n",
            "  Using cached datasets-1.7.0-py3-none-any.whl (234 kB)\n",
            "  Using cached datasets-1.6.2-py3-none-any.whl (221 kB)\n",
            "  Using cached datasets-1.6.1-py3-none-any.whl (220 kB)\n",
            "Requirement already satisfied: xxhash in /usr/local/lib/python3.8/dist-packages (from datasets>=1->-r gui2refexp/requirements.txt (line 6)) (3.2.0)\n",
            "  Using cached datasets-1.6.0-py3-none-any.whl (202 kB)\n",
            "  Using cached datasets-1.5.0-py3-none-any.whl (192 kB)\n",
            "  Using cached datasets-1.4.1-py3-none-any.whl (186 kB)\n",
            "  Using cached datasets-1.4.0-py3-none-any.whl (186 kB)\n",
            "  Using cached datasets-1.3.0-py3-none-any.whl (181 kB)\n",
            "  Using cached datasets-1.2.1-py3-none-any.whl (159 kB)\n",
            "Requirement already satisfied: multiprocess in /usr/local/lib/python3.8/dist-packages (from datasets>=1->-r gui2refexp/requirements.txt (line 6)) (0.70.14)\n",
            "Collecting evaluate\n",
            "  Using cached evaluate-0.3.0-py3-none-any.whl (72 kB)\n",
            "  Using cached evaluate-0.2.2-py3-none-any.whl (69 kB)\n",
            "  Using cached evaluate-0.2.1-py3-none-any.whl (69 kB)\n",
            "  Using cached evaluate-0.2.0-py3-none-any.whl (69 kB)\n",
            "  Using cached evaluate-0.1.2-py3-none-any.whl (53 kB)\n",
            "  Using cached evaluate-0.1.1-py3-none-any.whl (68 kB)\n",
            "  Using cached evaluate-0.1.0-py3-none-any.whl (68 kB)\n",
            "INFO: pip is looking at multiple versions of datasets to determine which version is compatible with other requirements. This could take a while.\n",
            "Collecting datasets>=1\n",
            "  Using cached datasets-1.2.0-py3-none-any.whl (159 kB)\n",
            "  Using cached datasets-1.1.3-py3-none-any.whl (153 kB)\n",
            "  Using cached datasets-1.1.2-py3-none-any.whl (147 kB)\n",
            "  Using cached datasets-1.1.1-py3-none-any.whl (147 kB)\n",
            "  Using cached datasets-1.1.0-py3-none-any.whl (147 kB)\n",
            "  Using cached datasets-1.0.2-py3-none-any.whl (1.8 MB)\n",
            "  Using cached datasets-1.0.1-py3-none-any.whl (1.8 MB)\n",
            "INFO: pip is looking at multiple versions of datasets to determine which version is compatible with other requirements. This could take a while.\n",
            "  Using cached datasets-1.0.0-py3-none-any.whl (1.8 MB)\n",
            "INFO: pip is looking at multiple versions of transformers[sentencepiece] to determine which version is compatible with other requirements. This could take a while.\n",
            "Collecting transformers[sentencepiece]>=4.25\n",
            "  Using cached transformers-4.25.1-py3-none-any.whl (5.8 MB)\n",
            "Requirement already satisfied: typing-extensions>=3.7.4.3 in /usr/local/lib/python3.8/dist-packages (from huggingface-hub<1.0,>=0.10.0->transformers[sentencepiece]>=4.25->-r gui2refexp/requirements.txt (line 5)) (4.4.0)\n",
            "INFO: pip is looking at multiple versions of huggingface-hub to determine which version is compatible with other requirements. This could take a while.\n",
            "Collecting huggingface-hub<1.0,>=0.10.0\n",
            "  Using cached huggingface_hub-0.11.1-py3-none-any.whl (182 kB)\n",
            "INFO: This is taking longer than usual. You might need to provide the dependency resolver with stricter constraints to reduce runtime. See https://pip.pypa.io/warnings/backtracking for guidance. If you want to abort this run, press Ctrl + C.\n",
            "INFO: pip is looking at multiple versions of pandas to determine which version is compatible with other requirements. This could take a while.\n",
            "Collecting pandas>=0.24.2\n",
            "  Using cached pandas-1.5.2-cp38-cp38-manylinux_2_17_x86_64.manylinux2014_x86_64.whl (12.2 MB)\n",
            "INFO: pip is looking at multiple versions of <Python from Requires-Python> to determine which version is compatible with other requirements. This could take a while.\n",
            "  Downloading pandas-1.5.1-cp38-cp38-manylinux_2_17_x86_64.manylinux2014_x86_64.whl (12.2 MB)\n",
            "\u001b[2K     \u001b[90m━━━━━━━━━━━━━━━━━━━━━━━━━━━━━━━━━━━━━━━━\u001b[0m \u001b[32m12.2/12.2 MB\u001b[0m \u001b[31m93.5 MB/s\u001b[0m eta \u001b[36m0:00:00\u001b[0m\n",
            "\u001b[?25hINFO: pip is looking at multiple versions of numpy to determine which version is compatible with other requirements. This could take a while.\n",
            "Collecting numpy>=1.12\n",
            "  Using cached numpy-1.24.1-cp38-cp38-manylinux_2_17_x86_64.manylinux2014_x86_64.whl (17.3 MB)\n",
            "  Downloading numpy-1.24.0-cp38-cp38-manylinux_2_17_x86_64.manylinux2014_x86_64.whl (17.3 MB)\n",
            "\u001b[2K     \u001b[90m━━━━━━━━━━━━━━━━━━━━━━━━━━━━━━━━━━━━━━━━\u001b[0m \u001b[32m17.3/17.3 MB\u001b[0m \u001b[31m27.4 MB/s\u001b[0m eta \u001b[36m0:00:00\u001b[0m\n",
            "\u001b[?25hINFO: pip is looking at multiple versions of scikit-learn to determine which version is compatible with other requirements. This could take a while.\n"
          ]
        }
      ],
      "source": [
        "#@title Install third party libs\n",
        "!pip install -r gui2refexp/requirements.txt\n"
      ]
    },
    {
      "cell_type": "code",
      "source": [],
      "metadata": {
        "id": "TobL13lQaIIK"
      },
      "execution_count": null,
      "outputs": []
    },
    {
      "cell_type": "code",
      "execution_count": null,
      "metadata": {
        "id": "dU5IVTPUBTOy"
      },
      "outputs": [],
      "source": [
        "!wget https://github.com/crux82/squad-it/raw/master/SQuAD_it-train.json.gz\n",
        "!wget https://github.com/crux82/squad-it/raw/master/SQuAD_it-test.json.gz"
      ]
    },
    {
      "cell_type": "code",
      "execution_count": null,
      "metadata": {
        "id": "uikHwxF8BTO0"
      },
      "outputs": [],
      "source": [
        "!gzip -dkv SQuAD_it-*.json.gz"
      ]
    },
    {
      "cell_type": "code",
      "execution_count": null,
      "metadata": {
        "id": "E-GDyuGUBTO1"
      },
      "outputs": [],
      "source": [
        "from datasets import load_dataset\n",
        "\n",
        "squad_it_dataset = load_dataset(\"json\", data_files=\"SQuAD_it-train.json\", field=\"data\")"
      ]
    },
    {
      "cell_type": "code",
      "execution_count": null,
      "metadata": {
        "id": "TrwtvotSBTO2",
        "outputId": "9ce8657d-ca3e-4ec5-c955-3e6498511043"
      },
      "outputs": [
        {
          "data": {
            "text/plain": [
              "DatasetDict({\n",
              "    train: Dataset({\n",
              "        features: ['title', 'paragraphs'],\n",
              "        num_rows: 442\n",
              "    })\n",
              "})"
            ]
          },
          "execution_count": null,
          "metadata": {},
          "output_type": "execute_result"
        }
      ],
      "source": [
        "squad_it_dataset"
      ]
    },
    {
      "cell_type": "code",
      "execution_count": null,
      "metadata": {
        "id": "N1wCiKCjBTO4",
        "outputId": "25a313b2-fb4d-4746-e9b7-5722d6e066d3"
      },
      "outputs": [
        {
          "data": {
            "text/plain": [
              "{\n",
              "    \"title\": \"Terremoto del Sichuan del 2008\",\n",
              "    \"paragraphs\": [\n",
              "        {\n",
              "            \"context\": \"Il terremoto del Sichuan del 2008 o il terremoto...\",\n",
              "            \"qas\": [\n",
              "                {\n",
              "                    \"answers\": [{\"answer_start\": 29, \"text\": \"2008\"}],\n",
              "                    \"id\": \"56cdca7862d2951400fa6826\",\n",
              "                    \"question\": \"In quale anno si è verificato il terremoto nel Sichuan?\",\n",
              "                },\n",
              "                ...\n",
              "            ],\n",
              "        },\n",
              "        ...\n",
              "    ],\n",
              "}"
            ]
          },
          "execution_count": null,
          "metadata": {},
          "output_type": "execute_result"
        }
      ],
      "source": [
        "squad_it_dataset[\"train\"][0]"
      ]
    },
    {
      "cell_type": "code",
      "execution_count": null,
      "metadata": {
        "id": "Mkz_7qCEBTO5",
        "outputId": "e40316c5-67ea-42f0-be0a-198f94c12cda"
      },
      "outputs": [
        {
          "data": {
            "text/plain": [
              "DatasetDict({\n",
              "    train: Dataset({\n",
              "        features: ['title', 'paragraphs'],\n",
              "        num_rows: 442\n",
              "    })\n",
              "    test: Dataset({\n",
              "        features: ['title', 'paragraphs'],\n",
              "        num_rows: 48\n",
              "    })\n",
              "})"
            ]
          },
          "execution_count": null,
          "metadata": {},
          "output_type": "execute_result"
        }
      ],
      "source": [
        "data_files = {\"train\": \"SQuAD_it-train.json\", \"test\": \"SQuAD_it-test.json\"}\n",
        "squad_it_dataset = load_dataset(\"json\", data_files=data_files, field=\"data\")\n",
        "squad_it_dataset"
      ]
    },
    {
      "cell_type": "code",
      "execution_count": null,
      "metadata": {
        "id": "shpV8vsyBTO5"
      },
      "outputs": [],
      "source": [
        "data_files = {\"train\": \"SQuAD_it-train.json.gz\", \"test\": \"SQuAD_it-test.json.gz\"}\n",
        "squad_it_dataset = load_dataset(\"json\", data_files=data_files, field=\"data\")"
      ]
    },
    {
      "cell_type": "code",
      "execution_count": null,
      "metadata": {
        "id": "Q4fPr4K5BTO6"
      },
      "outputs": [],
      "source": [
        "url = \"https://github.com/crux82/squad-it/raw/master/\"\n",
        "data_files = {\n",
        "    \"train\": url + \"SQuAD_it-train.json.gz\",\n",
        "    \"test\": url + \"SQuAD_it-test.json.gz\",\n",
        "}\n",
        "squad_it_dataset = load_dataset(\"json\", data_files=data_files, field=\"data\")"
      ]
    }
  ],
  "metadata": {
    "colab": {
      "name": "What if my dataset isn't on the Hub?",
      "provenance": [],
      "include_colab_link": true
    },
    "language_info": {
      "name": "python"
    },
    "kernelspec": {
      "name": "python3",
      "display_name": "Python 3"
    },
    "gpuClass": "standard",
    "accelerator": "GPU"
  },
  "nbformat": 4,
  "nbformat_minor": 0
}